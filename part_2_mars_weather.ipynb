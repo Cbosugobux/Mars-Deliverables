{
 "cells": [
  {
   "cell_type": "markdown",
   "metadata": {},
   "source": [
    "# Module 11 Challenge\n",
    "## Deliverable 2: Scrape and Analyze Mars Weather Data"
   ]
  },
  {
   "cell_type": "code",
   "execution_count": 1,
   "metadata": {},
   "outputs": [],
   "source": [
    "# Import relevant libraries\n",
    "from splinter import Browser\n",
    "from bs4 import BeautifulSoup as soup\n",
    "import matplotlib.pyplot as plt\n",
    "import pandas as pd"
   ]
  },
  {
   "cell_type": "code",
   "execution_count": 2,
   "metadata": {},
   "outputs": [],
   "source": [
    "browser = Browser('chrome')"
   ]
  },
  {
   "cell_type": "markdown",
   "metadata": {},
   "source": [
    "### Step 1: Visit the Website\n",
    "\n",
    "Use automated browsing to visit the [Mars Temperature Data Site](https://static.bc-edx.com/data/web/mars_facts/temperature.html). Inspect the page to identify which elements to scrape.\n",
    "\n",
    "   > **Hint** To identify which elements to scrape, you might want to inspect the page by using Chrome DevTools to discover whether the table contains usable classes.\n"
   ]
  },
  {
   "cell_type": "code",
   "execution_count": 3,
   "metadata": {},
   "outputs": [],
   "source": [
    "# Visit the website\n",
    "# https://static.bc-edx.com/data/web/mars_facts/temperature.html\n",
    "url = \"https://static.bc-edx.com/data/web/mars_facts/temperature.html\"\n",
    "browser.visit(url)"
   ]
  },
  {
   "cell_type": "markdown",
   "metadata": {},
   "source": [
    "### Step 2: Scrape the Table\n",
    "\n",
    "Create a Beautiful Soup object and use it to scrape the data in the HTML table.\n",
    "\n",
    "Note that this can also be achieved by using the Pandas `read_html` function. However, use Beautiful Soup here to continue sharpening your web scraping skills."
   ]
  },
  {
   "cell_type": "code",
   "execution_count": 4,
   "metadata": {},
   "outputs": [],
   "source": [
    "# Create a Beautiful Soup Object\n",
    "html = browser.html\n",
    "soupObject = soup(html, 'html.parser')"
   ]
  },
  {
   "cell_type": "code",
   "execution_count": 5,
   "metadata": {
    "scrolled": true
   },
   "outputs": [],
   "source": [
    "# Extract the table\n",
    "table = soupObject.find('table', class_='table')"
   ]
  },
  {
   "cell_type": "code",
   "execution_count": 6,
   "metadata": {},
   "outputs": [],
   "source": [
    "# Get Rows from Table\n",
    "rows = table.find_all(\"tr\")"
   ]
  },
  {
   "cell_type": "markdown",
   "metadata": {},
   "source": [
    "### Step 3: Store the Data\n",
    "\n",
    "Assemble the scraped data into a Pandas DataFrame. The columns should have the same headings as the table on the website. Here’s an explanation of the column headings:\n",
    "\n",
    "* `id`: the identification number of a single transmission from the Curiosity rover\n",
    "* `terrestrial_date`: the date on Earth\n",
    "* `sol`: the number of elapsed sols (Martian days) since Curiosity landed on Mars\n",
    "* `ls`: the solar longitude\n",
    "* `month`: the Martian month\n",
    "* `min_temp`: the minimum temperature, in Celsius, of a single Martian day (sol)\n",
    "* `pressure`: The atmospheric pressure at Curiosity's location"
   ]
  },
  {
   "cell_type": "code",
   "execution_count": 7,
   "metadata": {},
   "outputs": [],
   "source": [
    "# Create an empty list to hold the weather data\n",
    "marsWeather = []\n",
    "\n",
    "# Extract headers from the first row\n",
    "headers = [th.text.strip() for th in rows[0].find_all(\"th\")]\n",
    "\n",
    "# Loop through the data rows starting from the second row\n",
    "for row in rows[1:]:  # Start from the second row to skip the header\n",
    "    # Get the data from the 'td' tags\n",
    "    dataCells = row.find_all('td')\n",
    "    \n",
    "    # List comprehension to extract text from each data cell\n",
    "    rowData = [cell.text.strip() for cell in dataCells]\n",
    "    \n",
    "    # Check if rowData is not empty before appending\n",
    "    if rowData:  # Only append if rowData is not empty\n",
    "        # Combine headers and rowData into a dictionary\n",
    "        marsWeather.append(dict(zip(headers, rowData)))  \n",
    "\n"
   ]
  },
  {
   "cell_type": "code",
   "execution_count": 8,
   "metadata": {},
   "outputs": [
    {
     "data": {
      "text/html": [
       "<div>\n",
       "<style scoped>\n",
       "    .dataframe tbody tr th:only-of-type {\n",
       "        vertical-align: middle;\n",
       "    }\n",
       "\n",
       "    .dataframe tbody tr th {\n",
       "        vertical-align: top;\n",
       "    }\n",
       "\n",
       "    .dataframe thead th {\n",
       "        text-align: right;\n",
       "    }\n",
       "</style>\n",
       "<table border=\"1\" class=\"dataframe\">\n",
       "  <thead>\n",
       "    <tr style=\"text-align: right;\">\n",
       "      <th></th>\n",
       "      <th>id</th>\n",
       "      <th>terrestrial_date</th>\n",
       "      <th>sol</th>\n",
       "      <th>ls</th>\n",
       "      <th>month</th>\n",
       "      <th>min_temp</th>\n",
       "      <th>pressure</th>\n",
       "    </tr>\n",
       "  </thead>\n",
       "  <tbody>\n",
       "    <tr>\n",
       "      <th>0</th>\n",
       "      <td>2</td>\n",
       "      <td>2012-08-16</td>\n",
       "      <td>10</td>\n",
       "      <td>155</td>\n",
       "      <td>6</td>\n",
       "      <td>-75.0</td>\n",
       "      <td>739.0</td>\n",
       "    </tr>\n",
       "    <tr>\n",
       "      <th>1</th>\n",
       "      <td>13</td>\n",
       "      <td>2012-08-17</td>\n",
       "      <td>11</td>\n",
       "      <td>156</td>\n",
       "      <td>6</td>\n",
       "      <td>-76.0</td>\n",
       "      <td>740.0</td>\n",
       "    </tr>\n",
       "    <tr>\n",
       "      <th>2</th>\n",
       "      <td>24</td>\n",
       "      <td>2012-08-18</td>\n",
       "      <td>12</td>\n",
       "      <td>156</td>\n",
       "      <td>6</td>\n",
       "      <td>-76.0</td>\n",
       "      <td>741.0</td>\n",
       "    </tr>\n",
       "    <tr>\n",
       "      <th>3</th>\n",
       "      <td>35</td>\n",
       "      <td>2012-08-19</td>\n",
       "      <td>13</td>\n",
       "      <td>157</td>\n",
       "      <td>6</td>\n",
       "      <td>-74.0</td>\n",
       "      <td>732.0</td>\n",
       "    </tr>\n",
       "    <tr>\n",
       "      <th>4</th>\n",
       "      <td>46</td>\n",
       "      <td>2012-08-20</td>\n",
       "      <td>14</td>\n",
       "      <td>157</td>\n",
       "      <td>6</td>\n",
       "      <td>-74.0</td>\n",
       "      <td>740.0</td>\n",
       "    </tr>\n",
       "  </tbody>\n",
       "</table>\n",
       "</div>"
      ],
      "text/plain": [
       "   id terrestrial_date sol   ls month min_temp pressure\n",
       "0   2       2012-08-16  10  155     6    -75.0    739.0\n",
       "1  13       2012-08-17  11  156     6    -76.0    740.0\n",
       "2  24       2012-08-18  12  156     6    -76.0    741.0\n",
       "3  35       2012-08-19  13  157     6    -74.0    732.0\n",
       "4  46       2012-08-20  14  157     6    -74.0    740.0"
      ]
     },
     "execution_count": 8,
     "metadata": {},
     "output_type": "execute_result"
    }
   ],
   "source": [
    "# Create a Pandas DataFrame by using the list of rows and a list of the column names\n",
    "df = pd.DataFrame(marsWeather)\n",
    "\n",
    "# Confirm the DataFrame\n",
    "df.head()"
   ]
  },
  {
   "cell_type": "markdown",
   "metadata": {},
   "source": [
    "### Step 4: Prepare Data for Analysis\n",
    "\n",
    "Examine the data types that are currently associated with each column. If necessary, cast (or convert) the data to the appropriate `datetime`, `int`, or `float` data types.\n",
    "\n",
    "  > **Hint** You can use the Pandas `astype` and `to_datetime` methods to accomplish this task.\n"
   ]
  },
  {
   "cell_type": "code",
   "execution_count": 9,
   "metadata": {},
   "outputs": [
    {
     "name": "stdout",
     "output_type": "stream",
     "text": [
      "<class 'pandas.core.frame.DataFrame'>\n",
      "RangeIndex: 1867 entries, 0 to 1866\n",
      "Data columns (total 7 columns):\n",
      " #   Column            Non-Null Count  Dtype \n",
      "---  ------            --------------  ----- \n",
      " 0   id                1867 non-null   object\n",
      " 1   terrestrial_date  1867 non-null   object\n",
      " 2   sol               1867 non-null   object\n",
      " 3   ls                1867 non-null   object\n",
      " 4   month             1867 non-null   object\n",
      " 5   min_temp          1867 non-null   object\n",
      " 6   pressure          1867 non-null   object\n",
      "dtypes: object(7)\n",
      "memory usage: 102.2+ KB\n"
     ]
    }
   ],
   "source": [
    "# Examine data type of each column\n",
    "df.info()"
   ]
  },
  {
   "cell_type": "code",
   "execution_count": 10,
   "metadata": {},
   "outputs": [],
   "source": [
    "# Change data types for data analysis\n",
    "df[\"terrestrial_date\"] = pd.to_datetime(df[\"terrestrial_date\"])\n",
    "df[\"sol\"] = df[\"sol\"].astype(int)\n",
    "df[\"ls\"] = df[\"ls\"].astype(int)\n",
    "df[\"month\"] = df[\"month\"].astype(int)\n",
    "df[\"min_temp\"] = df[\"min_temp\"].astype(float)\n",
    "df[\"pressure\"] = df[\"pressure\"].astype(float)"
   ]
  },
  {
   "cell_type": "code",
   "execution_count": 11,
   "metadata": {},
   "outputs": [
    {
     "data": {
      "text/plain": [
       "id                          object\n",
       "terrestrial_date    datetime64[ns]\n",
       "sol                          int64\n",
       "ls                           int64\n",
       "month                        int64\n",
       "min_temp                   float64\n",
       "pressure                   float64\n",
       "dtype: object"
      ]
     },
     "execution_count": 11,
     "metadata": {},
     "output_type": "execute_result"
    }
   ],
   "source": [
    "# Confirm type changes were successful by examining data types again\n",
    "df.dtypes"
   ]
  },
  {
   "cell_type": "markdown",
   "metadata": {},
   "source": [
    "### Step 5: Analyze the Data\n",
    "\n",
    "Analyze your dataset by using Pandas functions to answer the following questions:\n",
    "\n",
    "1. How many months exist on Mars?\n",
    "2. How many Martian (and not Earth) days worth of data exist in the scraped dataset?\n",
    "3. What are the coldest and the warmest months on Mars (at the location of Curiosity)? To answer this question:\n",
    "    * Find the average the minimum daily temperature for all of the months.\n",
    "    * Plot the results as a bar chart.\n",
    "4. Which months have the lowest and the highest atmospheric pressure on Mars? To answer this question:\n",
    "    * Find the average the daily atmospheric pressure of all the months.\n",
    "    * Plot the results as a bar chart.\n",
    "5. About how many terrestrial (Earth) days exist in a Martian year? To answer this question:\n",
    "    * Consider how many days elapse on Earth in the time that Mars circles the Sun once.\n",
    "    * Visually estimate the result by plotting the daily minimum temperature.\n"
   ]
  },
  {
   "cell_type": "code",
   "execution_count": 12,
   "metadata": {},
   "outputs": [
    {
     "name": "stdout",
     "output_type": "stream",
     "text": [
      "There are 12 months on Mars.\n"
     ]
    }
   ],
   "source": [
    "# 1. How many months are there on Mars?\n",
    "marsMonths = df['month'].nunique()\n",
    "print(f\"There are {marsMonths} months on Mars.\")"
   ]
  },
  {
   "cell_type": "code",
   "execution_count": 13,
   "metadata": {},
   "outputs": [
    {
     "name": "stdout",
     "output_type": "stream",
     "text": [
      "There are 1867 days worth of data\n"
     ]
    }
   ],
   "source": [
    "# 2. How many Martian days' worth of data are there?\n",
    "marsDays = df[\"sol\"].nunique()\n",
    "print(f\"There are {marsDays} days worth of data\")"
   ]
  },
  {
   "cell_type": "code",
   "execution_count": 14,
   "metadata": {},
   "outputs": [
    {
     "name": "stdout",
     "output_type": "stream",
     "text": [
      "Month: 1, \t Avg Min Temp: -77.16\n",
      "Month: 2, \t Avg Min Temp: -79.93\n",
      "Month: 3, \t Avg Min Temp: -83.31\n",
      "Month: 4, \t Avg Min Temp: -82.75\n",
      "Month: 5, \t Avg Min Temp: -79.31\n",
      "Month: 6, \t Avg Min Temp: -75.30\n",
      "Month: 7, \t Avg Min Temp: -72.28\n",
      "Month: 8, \t Avg Min Temp: -68.38\n",
      "Month: 9, \t Avg Min Temp: -69.17\n",
      "Month: 10, \t Avg Min Temp: -71.98\n",
      "Month: 11, \t Avg Min Temp: -71.99\n",
      "Month: 12, \t Avg Min Temp: -74.45\n"
     ]
    }
   ],
   "source": [
    "# 3. What is the average low temperature by month?\n",
    "avgLowMonth = df.groupby('month')[\"min_temp\"].mean()\n",
    "\n",
    "for month, avg_temp in avgLowMonth.items():\n",
    "    print(f\"Month: {month}, \\t Avg Min Temp: {avg_temp: .2f}\")"
   ]
  },
  {
   "cell_type": "code",
   "execution_count": 15,
   "metadata": {},
   "outputs": [
    {
     "data": {
      "image/png": "[encoded data removed]",
      "text/plain": [
       "<Figure size 640x480 with 1 Axes>"
      ]
     },
     "metadata": {},
     "output_type": "display_data"
    }
   ],
   "source": [
    "# Plot the average temperature by month\n",
    "avgLowMonth.plot(x='month', y='avg_temp', kind='bar')\n",
    "\n",
    "plt.xlabel('Month')\n",
    "plt.ylabel('Average Temperature')\n",
    "plt.title('Mars Average Temperature by Month')\n",
    "plt.xticks(rotation=0)\n",
    "plt.show()"
   ]
  },
  {
   "cell_type": "code",
   "execution_count": 16,
   "metadata": {},
   "outputs": [
    {
     "name": "stdout",
     "output_type": "stream",
     "text": [
      "The coldest month on Mars is Acheron with an average temperature of -83.31°F.\n",
      "The warmest month on Mars is Noctis with an average temperature of -68.38°F.\n"
     ]
    }
   ],
   "source": [
    "# Convert the Series to a DataFrame\n",
    "avgLowMonth_df = avgLowMonth.reset_index()\n",
    "avgLowMonth_df.columns = ['Month', 'Avg_Temp']  # Ensure consistent column names\n",
    "\n",
    "# Mars Month Names\n",
    "marsMonthNames = {\n",
    "    1: \"Phobos\", 2: \"Deimos\", 3: \"Acheron\", 4: \"Ares\",\n",
    "    5: \"Aphrodite\", 6: \"Hesperia\", 7: \"Tharsis\", 8: \"Noctis\",\n",
    "    9: \"Mare Erythraeum\", 10: \"Amazonis\", 11: \"Hellas\", 12: \"Utopia\"\n",
    "}\n",
    "\n",
    "# Identify the coldest and hottest months\n",
    "coldestMonth = avgLowMonth_df.loc[avgLowMonth_df['Avg_Temp'].idxmin()]\n",
    "hottestMonth = avgLowMonth_df.loc[avgLowMonth_df['Avg_Temp'].idxmax()]\n",
    "\n",
    "# Get Mars month names for coldest and hottest months\n",
    "coldestMonthName = marsMonthNames[coldestMonth['Month']]\n",
    "hottestMonthName = marsMonthNames[hottestMonth['Month']]\n",
    "\n",
    "# Print results with Mars month names\n",
    "print(f\"The coldest month on Mars is {coldestMonthName} with an average temperature of {coldestMonth['Avg_Temp']:.2f}°F.\") \n",
    "print(f\"The warmest month on Mars is {hottestMonthName} with an average temperature of {hottestMonth['Avg_Temp']:.2f}°F.\")\n"
   ]
  },
  {
   "cell_type": "code",
   "execution_count": 17,
   "metadata": {},
   "outputs": [
    {
     "name": "stdout",
     "output_type": "stream",
     "text": [
      "Month: 1 \t Atmospheric Pressure: 862.49\n",
      "Month: 2 \t Atmospheric Pressure: 889.46\n",
      "Month: 3 \t Atmospheric Pressure: 877.32\n",
      "Month: 4 \t Atmospheric Pressure: 806.33\n",
      "Month: 5 \t Atmospheric Pressure: 748.56\n",
      "Month: 6 \t Atmospheric Pressure: 745.05\n",
      "Month: 7 \t Atmospheric Pressure: 795.11\n",
      "Month: 8 \t Atmospheric Pressure: 873.83\n",
      "Month: 9 \t Atmospheric Pressure: 913.31\n",
      "Month: 10 \t Atmospheric Pressure: 887.31\n",
      "Month: 11 \t Atmospheric Pressure: 857.01\n",
      "Month: 12 \t Atmospheric Pressure: 842.16\n"
     ]
    }
   ],
   "source": [
    "# 4. Average pressure by Martian month\n",
    "avgPressure = df.groupby('month')[\"pressure\"].mean()\n",
    "\n",
    "# Loop through and print avg pressure for each month\n",
    "for month, pressure in avgPressure.items():\n",
    "    print(f\"Month: {month} \\t Atmospheric Pressure: {pressure:.2f}\")"
   ]
  },
  {
   "cell_type": "code",
   "execution_count": 18,
   "metadata": {},
   "outputs": [
    {
     "name": "stdout",
     "output_type": "stream",
     "text": [
      "The month with the lowest atmospheric pressure on Mars is Hesperia with an average pressure of 745.05 Pa.\n",
      "The month with the highest atmospheric pressure on Mars is Mare Erythraeum with an average pressure of 913.31 Pa.\n"
     ]
    }
   ],
   "source": [
    "# Convert the Series to a DataFrame\n",
    "avgPressure_df = avgPressure.reset_index()  # Use avgPressure for atmospheric pressure data\n",
    "avgPressure_df.columns = ['Month', 'Avg_Pressure']  # Ensure consistent column names\n",
    "\n",
    "# Mars Month Names\n",
    "marsMonthNames = {\n",
    "    1: \"Phobos\", 2: \"Deimos\", 3: \"Acheron\", 4: \"Ares\",\n",
    "    5: \"Aphrodite\", 6: \"Hesperia\", 7: \"Tharsis\", 8: \"Noctis\",\n",
    "    9: \"Mare Erythraeum\", 10: \"Amazonis\", 11: \"Hellas\", 12: \"Utopia\"\n",
    "}\n",
    "\n",
    "# Identify the months with the lowest and highest atmospheric pressure\n",
    "lowestMonth = avgPressure_df.loc[avgPressure_df['Avg_Pressure'].idxmin()]\n",
    "highestMonth = avgPressure_df.loc[avgPressure_df['Avg_Pressure'].idxmax()]\n",
    "\n",
    "# Get Mars month names for lowest and highest pressure months\n",
    "lowestMonthName = marsMonthNames[lowestMonth['Month']]\n",
    "highestMonthName = marsMonthNames[highestMonth['Month']]\n",
    "\n",
    "# Print results with Mars month names\n",
    "print(f\"The month with the lowest atmospheric pressure on Mars is {lowestMonthName} with an average pressure of {lowestMonth['Avg_Pressure']:.2f} Pa.\") \n",
    "print(f\"The month with the highest atmospheric pressure on Mars is {highestMonthName} with an average pressure of {highestMonth['Avg_Pressure']:.2f} Pa.\")\n",
    "\n"
   ]
  },
  {
   "cell_type": "code",
   "execution_count": 19,
   "metadata": {},
   "outputs": [
    {
     "data": {
      "image/png": "[encoded data removed]",
      "text/plain": [
       "<Figure size 640x480 with 1 Axes>"
      ]
     },
     "metadata": {},
     "output_type": "display_data"
    }
   ],
   "source": [
    "# Plot the average pressure by month\n",
    "avgPressure.plot(kind='bar')\n",
    "\n",
    "plt.xlabel('Month')  \n",
    "plt.ylabel('Avg Atmospheric Pressure (Pa)')\n",
    "plt.title('Mars Average Atmospheric Pressure by Month')\n",
    "plt.xticks(rotation=0)\n",
    "plt.tight_layout()  # Adjust layout to prevent clipping\n",
    "plt.show()"
   ]
  },
  {
   "cell_type": "code",
   "execution_count": 20,
   "metadata": {},
   "outputs": [
    {
     "name": "stdout",
     "output_type": "stream",
     "text": [
      "Average number of Earth days in a Martian year: 687.00 days\n"
     ]
    },
    {
     "data": {
      "image/png": "[encoded data removed]",
      "text/plain": [
       "<Figure size 640x480 with 1 Axes>"
      ]
     },
     "metadata": {},
     "output_type": "display_data"
    }
   ],
   "source": [
    "# 5. How many terrestrial (earth) days are there in a Martian year?\n",
    "# Sort by terrestrial_date to ensure data is ordered chronologically\n",
    "df = df.sort_values(by='terrestrial_date')\n",
    "\n",
    "# Identify transitions from month 12 to month 1 \n",
    "transitions = df[(df['month'] == 12) & (df['month'].shift(-1) == 1)]\n",
    "\n",
    "# Calculate the number of terrestrial days in a Martian year\n",
    "transition_dates = transitions['terrestrial_date']\n",
    "martianYearLengths = (transition_dates.shift(-1) - transition_dates).dt.days\n",
    "\n",
    "# Calculate the average length of a Martian year\n",
    "avgMartianYear = martianYearLengths.mean()\n",
    "\n",
    "# Print results\n",
    "print(f\"Average number of Earth days in a Martian year: {avgMartianYear:.2f} days\")\n",
    "\n",
    "# Plot the daily minimum temperatures\n",
    "plt.plot(df['terrestrial_date'], df[\"min_temp\"], color=\"red\")\n",
    "plt.title('Daily Minimum Temperatures on Mars')\n",
    "plt.xlabel('Date')\n",
    "plt.ylabel('Minimum Temperature (°C)')\n",
    "plt.grid()\n",
    "plt.show()\n",
    "\n"
   ]
  },
  {
   "cell_type": "markdown",
   "metadata": {},
   "source": [
    "On average, the third month has the coldest minimum temperature on Mars, and the eighth month is the warmest. But it is always very cold there in human terms!\n",
    "\n"
   ]
  },
  {
   "cell_type": "markdown",
   "metadata": {},
   "source": [
    "Atmospheric pressure is, on average, lowest in the sixth month and highest in the ninth."
   ]
  },
  {
   "cell_type": "markdown",
   "metadata": {},
   "source": [
    "The distance from peak to peak is roughly 1425-750, or 675 days. A year on Mars appears to be about 675 days from the plot. Internet search confirms that a Mars year is equivalent to 687 earth days."
   ]
  },
  {
   "cell_type": "markdown",
   "metadata": {},
   "source": [
    "### Step 6: Save the Data\n",
    "\n",
    "Export the DataFrame to a CSV file."
   ]
  },
  {
   "cell_type": "code",
   "execution_count": 21,
   "metadata": {},
   "outputs": [],
   "source": [
    "# Write the data to a CSV\n",
    "df.to_csv(\"Mars_Data.csv\", index=False, header=True, encoding=\"utf-8\")"
   ]
  },
  {
   "cell_type": "code",
   "execution_count": 52,
   "metadata": {},
   "outputs": [],
   "source": [
    "browser.quit()"
   ]
  },
  {
   "cell_type": "code",
   "execution_count": null,
   "metadata": {},
   "outputs": [],
   "source": []
  }
 ],
 "metadata": {
  "kernelspec": {
   "display_name": "Python 3 (ipykernel)",
   "language": "python",
   "name": "python3"
  },
  "language_info": {
   "codemirror_mode": {
    "name": "ipython",
    "version": 3
   },
   "file_extension": ".py",
   "mimetype": "text/x-python",
   "name": "python",
   "nbconvert_exporter": "python",
   "pygments_lexer": "ipython3",
   "version": "3.13.0"
  },
  "vscode": {
   "interpreter": {
    "hash": "31f2aee4e71d21fbe5cf8b01ff0e069b9275f58929596ceb00d14d90e3e16cd6"
   }
  }
 },
 "nbformat": 4,
 "nbformat_minor": 4
}
